{
 "cells": [
  {
   "cell_type": "code",
   "execution_count": 1,
   "metadata": {},
   "outputs": [],
   "source": [
    "import os\n",
    "import lasio\n",
    "import pandas as pd\n",
    "import plotly.graph_objs as go\n",
    "from ipywidgets import interact, widgets\n",
    "from concurrent.futures import ThreadPoolExecutor\n",
    "from concurrent.futures import ProcessPoolExecutor\n",
    "from joblib import Parallel, delayed"
   ]
  },
  {
   "cell_type": "code",
   "execution_count": 2,
   "metadata": {},
   "outputs": [],
   "source": [
    "def find_las_files(folder):\n",
    "    las_files = []\n",
    "    for dirpath, _, filenames in os.walk(folder):\n",
    "        for filename in filenames:\n",
    "            if filename.endswith('.las'):\n",
    "                las_files.append(os.path.join(dirpath, filename))\n",
    "    return las_files\n",
    "\n",
    "\n",
    "\n",
    "\n",
    "def extract_log_names(las_file):\n",
    "    try:\n",
    "        las = lasio.read(las_file, engine='normal')\n",
    "        return las_file, [curve.mnemonic for curve in las.curves]\n",
    "    except Exception as e:\n",
    "        print(f\"Failed to read {las_file}: {str(e)}\")\n",
    "        return las_file, []\n",
    "\n",
    "\n",
    "\n",
    "\n"
   ]
  },
  {
   "cell_type": "code",
   "execution_count": 3,
   "metadata": {},
   "outputs": [],
   "source": [
    "folder = r'E:\\Data\\Wells'  # Replace with your folder path\n",
    "las_files = find_las_files(folder)\n",
    "\n",
    "n_jobs = -1  # Use all available CPU cores\n",
    "data = []\n",
    "\n",
    "results = Parallel(n_jobs=n_jobs)(delayed(extract_log_names)(las_file) for las_file in las_files)\n",
    "\n",
    "for las_file, log_names in results:\n",
    "    for log_name in log_names:\n",
    "        data.append({'LAS_File': las_file, 'Log_Name': log_name})\n",
    "\n",
    "df = pd.DataFrame(data)\n"
   ]
  },
  {
   "cell_type": "code",
   "execution_count": 4,
   "metadata": {},
   "outputs": [],
   "source": [
    "log_categories = {\n",
    "    'Density': ['RHOB', 'ZDEN', 'DEN', 'DPHI', 'DPHZ', 'DPOR', 'RHOZ', 'RHGF', 'RHG', 'RHGA', 'RHGD', 'RHGM', 'RHGX'],\n",
    "    'Gamma Ray': ['GR', 'GAMMA', 'CGR', 'SGR', 'HCGR', 'HSGR', 'GRR', 'GRS', 'GRD', 'GRN', 'GRC', 'GR_EDTC', 'GR_STGC'],\n",
    "    'Resistivity': ['RES', 'RT', 'RLLD', 'RLLS', 'MSFL', 'ILD', 'ILM', 'LLD', 'LLS', 'LL8', 'LL7', 'ATRT', 'AT90', 'RWA', 'R2', 'R1', 'RESD', 'RESM', 'RESS', 'RLL3'],\n",
    "    'Neutron Porosity': ['NPHI', 'TNPH', 'NPOR', 'CNC', 'CNPOR', 'SNP', 'NPHS', 'NPOR_DSN', 'NPRL', 'NPLS'],\n",
    "    'Sonic': ['DT', 'DTC', 'DTSM', 'DTS', 'DTSF', 'DTS_SLOW', 'DT1', 'DT2', 'DT4P', 'DT4S', 'DTRP', 'DTTP', 'DTR', 'DTRS', 'DT24', 'DTCO', 'DTMD', 'DTLF', 'DTLN', 'DTLO', 'DTSW'],\n",
    "    'Caliper': ['CAL', 'CALI', 'LCAL', 'MCAL', 'CALS', 'HCAL', 'CALD', 'CALN', 'CALR', 'CALX', 'C1', 'C2', 'C3'],\n",
    "    'SP': ['SP', 'SPSB', 'SSPK', 'SPC', 'SPD'],\n",
    "    'PEF': ['PEF', 'PE', 'PEFZ', 'PEDN'],\n",
    "    'Acoustic': ['AC', 'AC1', 'AC2', 'ACD', 'ACS', 'ACTT', 'ACXP', 'AE20', 'AE30', 'AE60', 'AHTCO60'],\n",
    "    'Bit Size': ['BS', 'BSZ'],\n",
    "    'Formation Micro-Imager': ['FMI', 'FMI_HILT', 'FMIH', 'FMSF', 'FMSC', 'FMSX', 'FMS'],\n",
    "    'Temperature': ['BHT', 'MTEM', 'HTNP'],\n",
    "    'Pressure': ['MPR', 'BHP', 'HTNP_PRES'],\n",
    "    'Deep Reading': ['DRHO', 'DRH', 'DRHB', 'ZDNC'],\n",
    "    'Shallow Reading': ['SRAT', 'SRAT_SRM', 'SRXP', 'SRLC', 'SFLU', 'SFBC', 'SFL', 'SFLR'],\n",
    "    'Medium Reading': ['MRAT', 'MRIL', 'MRXP', 'MRES', 'MRR', 'RMED'],\n",
    "    'Photoelectric Absorption': ['UZ', 'UAPI', 'UPOR'],\n",
    "    'Thermal Decay Time': ['TDT', 'TDTF'],\n",
    "    'Natural Gamma Ray Spectroscopy': ['THOR', 'POTA', 'URAN'],\n",
    "    'Dielectric Constant': ['DIEC', 'DEPO'],\n",
    "    'Azimuthal Resistivity': ['AZIM', 'AZI'],\n",
    "    'p_wave_tools': ['DT', 'DTC', 'DTSM', 'DTS', 'DTSF', 'DTS_SLOW', 'DT1', 'DT2', 'DT4P', 'DTRP', 'DTTP', 'DTR', 'DTCO', 'DTMD', 'DTLF', 'DTLN', 'DTLO', 'DTSW'],\n",
    "    's_wave_tools': ['DT4S', 'DTRS', 'DT24']\n",
    "}\n"
   ]
  },
  {
   "cell_type": "code",
   "execution_count": 5,
   "metadata": {},
   "outputs": [],
   "source": [
    "category_checkboxes = [widgets.Checkbox(value=False, description=category) for category in log_categories.keys()]\n",
    "checkbox_widgets = widgets.VBox(category_checkboxes)\n"
   ]
  },
  {
   "cell_type": "code",
   "execution_count": 6,
   "metadata": {},
   "outputs": [],
   "source": [
    "button = widgets.Button(description=\"Find Wells\")\n",
    "output = widgets.Output()\n",
    "\n",
    "def on_button_click(b):\n",
    "    with output:\n",
    "        output.clear_output()\n",
    "        selected_categories = [checkbox.description for checkbox in category_checkboxes if checkbox.value]\n",
    "        if not selected_categories:\n",
    "            print(\"Please select at least one log category.\")\n",
    "            return\n",
    "        \n",
    "        grouped = df.groupby('LAS_File')['Log_Name'].apply(set).reset_index()\n",
    "        wells_with_selected_logs = []\n",
    "        for i, row in grouped.iterrows():\n",
    "            if all(any(log in row['Log_Name'] for log in log_categories[category]) for category in selected_categories):\n",
    "                wells_with_selected_logs.append(row['LAS_File'])\n",
    "\n",
    "        print(\"Wells with selected logs:\")\n",
    "        for well in wells_with_selected_logs:\n",
    "            print(well)\n",
    "\n",
    "button.on_click(on_button_click)\n",
    "\n",
    "\n"
   ]
  },
  {
   "cell_type": "code",
   "execution_count": 7,
   "metadata": {},
   "outputs": [
    {
     "data": {
      "application/vnd.jupyter.widget-view+json": {
       "model_id": "75c95c7966384f58ac974c00bc16dc26",
       "version_major": 2,
       "version_minor": 0
      },
      "text/plain": [
       "VBox(children=(VBox(children=(Checkbox(value=False, description='Density'), Checkbox(value=False, description=…"
      ]
     },
     "execution_count": 7,
     "metadata": {},
     "output_type": "execute_result"
    }
   ],
   "source": [
    "widgets.VBox([checkbox_widgets, button, output])\n"
   ]
  },
  {
   "cell_type": "code",
   "execution_count": null,
   "metadata": {},
   "outputs": [],
   "source": []
  },
  {
   "cell_type": "code",
   "execution_count": null,
   "metadata": {},
   "outputs": [],
   "source": [
    "df"
   ]
  },
  {
   "cell_type": "code",
   "execution_count": null,
   "metadata": {},
   "outputs": [],
   "source": [
    "from openpyxl import Workbook\n",
    "from openpyxl.worksheet.table import Table, TableStyleInfo\n",
    "\n",
    "# Create a new Excel workbook and add a worksheet\n",
    "wb = Workbook()\n",
    "ws = wb.active\n",
    "ws.title = \"Wells\"\n",
    "\n",
    "# Write the DataFrame to the worksheet\n",
    "for r_idx, row in enumerate(df.to_numpy(), start=2):\n",
    "    for c_idx, value in enumerate(row, start=1):\n",
    "        ws.cell(row=r_idx, column=c_idx, value=value)\n",
    "\n",
    "# Write the header row\n",
    "for c_idx, col_name in enumerate(df.columns, start=1):\n",
    "    ws.cell(row=1, column=c_idx, value=col_name)\n",
    "\n",
    "# Create a table with filters\n",
    "tab = Table(displayName=\"Table1\", ref=ws.dimensions)\n",
    "tab.tableStyleInfo = TableStyleInfo(\n",
    "    name=\"TableStyleMedium9\", showFirstColumn=False,\n",
    "    showLastColumn=False, showRowStripes=True, showColumnStripes=True)\n",
    "ws.add_table(tab)\n",
    "\n",
    "# Save the workbook\n",
    "wb.save(\"Wells.xlsx\")\n"
   ]
  },
  {
   "cell_type": "code",
   "execution_count": null,
   "metadata": {},
   "outputs": [],
   "source": [
    "from openpyxl import Workbook\n",
    "from openpyxl.worksheet.table import Table, TableStyleInfo\n",
    "from openpyxl.utils.dataframe import dataframe_to_rows\n",
    "import pandas as pd\n",
    "\n",
    "log_categories = {\n",
    "    # ... (the same dictionary as you provided earlier)\n",
    "}\n",
    "\n",
    "# Create a function to categorize the logs\n",
    "def categorize_log(log_name):\n",
    "    for category, names in log_categories.items():\n",
    "        if log_name in names:\n",
    "            return category\n",
    "    return 'Other'\n",
    "\n",
    "# Add a new column to the DataFrame with the log categories\n",
    "df['Category'] = df['Log_Name'].apply(categorize_log)\n",
    "\n",
    "# Create a new Excel workbook and add a worksheet\n",
    "wb = Workbook()\n",
    "ws = wb.active\n",
    "ws.title = \"Wells\"\n",
    "\n",
    "# Write the DataFrame to the worksheet\n",
    "for r_idx, row in enumerate(dataframe_to_rows(df, index=False, header=True), start=1):\n",
    "    for c_idx, value in enumerate(row, start=1):\n",
    "        ws.cell(row=r_idx, column=c_idx, value=value)\n",
    "\n",
    "# Create a table with filters\n",
    "tab = Table(displayName=\"Table1\", ref=ws.dimensions)\n",
    "tab.tableStyleInfo = TableStyleInfo(\n",
    "    name=\"TableStyleMedium9\", showFirstColumn=False,\n",
    "    showLastColumn=False, showRowStripes=True, showColumnStripes=True)\n",
    "ws.add_table(tab)\n",
    "\n",
    "# Save the workbook\n",
    "wb.save(\"Wells.xlsx\")\n"
   ]
  },
  {
   "cell_type": "code",
   "execution_count": null,
   "metadata": {},
   "outputs": [],
   "source": [
    "df\n"
   ]
  },
  {
   "cell_type": "code",
   "execution_count": null,
   "metadata": {},
   "outputs": [],
   "source": [
    "import shutil\n",
    "\n",
    "def copy_files_to_directory(file_paths, dest_folder):\n",
    "    # Loop through the list of file paths and copy each one to the destination folder\n",
    "    for file_path in file_paths:\n",
    "        # Get the name of the file from its path\n",
    "        file_name = file_path.split(\"\\\\\")[-1]\n",
    "        \n",
    "        # Create the destination file path\n",
    "        dest_path = f\"{dest_folder}\\\\{file_name}\"\n",
    "        \n",
    "        # Copy the file to the destination folder\n",
    "        shutil.copy(file_path, dest_path)\n",
    "\n",
    "# List of file paths you want to copy\n",
    "file_paths = [\n",
    "    \"E:\\\\Data\\\\Wells\\\\43-13a-5\\\\WirelineData\\\\Depth\\\\43-13a-5 30155_d.las\",\n",
    "    \"E:\\\\Data\\\\Wells\\\\43-13b-6Z\\\\WirelineData\\\\Depth\\\\43-13b-6Z 500799_d.las\",\n",
    "    \"E:\\\\Data\\\\Wells\\\\43-19a-4\\\\WirelineData\\\\Depth\\\\43-19a-4 24257_d.las\",\n",
    "    \"E:\\\\Data\\\\Wells\\\\43-28a-3\\\\WirelineData\\\\Depth\\\\43-28a-3 19629_d.las\",\n",
    "    \"E:\\\\Data\\\\Wells\\\\44-12a-3\\\\WirelineData\\\\Depth\\\\44-12a-3 30202_d.las\",\n",
    "    \"E:\\\\Data\\\\Wells\\\\44-12a-6\\\\WirelineData\\\\Depth\\\\44-12a-6 502894_d.las\",\n",
    "    \"E:\\\\Data\\\\Wells\\\\44-23b-11\\\\WirelineData\\\\Depth\\\\44-23b-11 29226_d.las\",\n",
    "    \"E:\\\\Data\\\\Wells\\\\47-10-8\\\\WirelineData\\\\Depth\\\\47-10-8 29129_d.las\",\n",
    "    \"E:\\\\Data\\\\Wells\\\\47-4a-7\\\\WirelineData\\\\Depth\\\\47-4a-7 11601_d.las\",\n",
    "    \"E:\\\\Data\\\\Wells\\\\48-12a-7Z\\\\WirelineData\\\\Depth\\\\48-12a-7Z 19743_d.las\",\n",
    "    \"E:\\\\Data\\\\Wells\\\\48-12a-8\\\\WirelineData\\\\Depth\\\\48-12a-8 22025_d.las\",\n",
    "    \"E:\\\\Data\\\\Wells\\\\48-18c-14\\\\WirelineData\\\\Depth\\\\48-18c-14 25546_d.las\",\n",
    "    \"E:\\\\Data\\\\Wells\\\\48-20a-7\\\\WirelineData\\\\Depth\\\\48-20a-7 23077_d.las\",\n",
    "    \"E:\\\\Data\\\\Wells\\\\48-23b-6\\\\WirelineData\\\\Depth\\\\48-23b-6 27890_d.las\",\n",
    "    \"E:\\\\Data\\\\Wells\\\\48-2b-3\\\\WirelineData\\\\Depth\\\\48-2b-3 25646_d.las\",\n",
    "    \"E:\\\\Data\\\\Wells\\\\48-6-42\\\\WirelineData\\\\Depth\\\\48-6-42 29646_d.las\",\n",
    "    \"E:\\\\Data\\\\Wells\\\\49-20a-7\\\\WirelineData\\\\Depth\\\\49-20a-7 29431_d.las\",\n",
    "    \"E:\\\\Data\\\\Wells\\\\49-29a-10\\\\WirelineData\\\\Depth\\\\49-29a-10 20699_d.las\",\n",
    "    \"E:\\\\Data\\\\Wells\\\\49-2a-5Z\\\\WirelineData\\\\Depth\\\\49-2a-5Z 20748_d.las\",\n",
    "    \"E:\\\\Data\\\\Wells\\\\49-9b-6Z\\\\WirelineData\\\\Depth\\\\49-9b-6Z 13406_d.las\",\n",
    "    \"E:\\\\Data\\\\Wells\\\\53-15a-1\\\\WirelineData\\\\Depth\\\\53-15a-1 28638_d.las\",\n",
    "    \"E:\\\\Data\\\\Wells\\\\53-3a-7\\\\WirelineData\\\\Depth\\\\53-3a-7 28967_d.las\",\n",
    "    \"E:\\\\Data\\\\Wells\\\\53-5b-6\\\\WirelineData\\\\Depth\\\\53-5b-6 26958_d.las\",\n",
    "    \"E:\\\\Data\\\\Wells\\\\54-1b-6\\\\WirelineData\\\\Depth\\\\54-1b-6 29554_d.las\"\n",
    "]\n",
    "\n",
    "# Destination folder\n",
    "dest_folder = \"E:\\\\WELLSCHECK\"\n",
    "\n",
    "# Execute the function to copy the files\n",
    "copy_files_to_directory(file_paths, dest_folder)\n",
    "\n",
    "print(\"Files have been copied.\")\n"
   ]
  },
  {
   "cell_type": "code",
   "execution_count": null,
   "metadata": {},
   "outputs": [],
   "source": []
  }
 ],
 "metadata": {
  "kernelspec": {
   "display_name": "Geol",
   "language": "python",
   "name": "python3"
  },
  "language_info": {
   "codemirror_mode": {
    "name": "ipython",
    "version": 3
   },
   "file_extension": ".py",
   "mimetype": "text/x-python",
   "name": "python",
   "nbconvert_exporter": "python",
   "pygments_lexer": "ipython3",
   "version": "3.11.4"
  },
  "orig_nbformat": 4
 },
 "nbformat": 4,
 "nbformat_minor": 2
}
